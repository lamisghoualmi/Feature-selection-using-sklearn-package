{
  "nbformat": 4,
  "nbformat_minor": 0,
  "metadata": {
    "colab": {
      "name": "decision-fusion.ipynb",
      "provenance": [],
      "collapsed_sections": [],
      "authorship_tag": "ABX9TyOMXxYi5hKi9YN5noKDQj61",
      "include_colab_link": true
    },
    "kernelspec": {
      "name": "python3",
      "display_name": "Python 3"
    },
    "language_info": {
      "name": "python"
    }
  },
  "cells": [
    {
      "cell_type": "markdown",
      "metadata": {
        "id": "view-in-github",
        "colab_type": "text"
      },
      "source": [
        "<a href=\"https://colab.research.google.com/github/lamisghoualmi/Projects-MachineLearning/blob/main/decision_fusion.ipynb\" target=\"_parent\"><img src=\"https://colab.research.google.com/assets/colab-badge.svg\" alt=\"Open In Colab\"/></a>"
      ]
    },
    {
      "cell_type": "code",
      "execution_count": 1,
      "metadata": {
        "id": "Ld-_8FpCqEkV"
      },
      "outputs": [],
      "source": [
        "import numpy as np\n",
        "import pandas  as pd\n",
        "from sklearn.model_selection import train_test_split\n",
        "from sklearn.metrics import accuracy_score\n",
        "import matplotlib.pyplot as plt\n",
        "from sklearn import preprocessing\n",
        "import pickle\n",
        "from sklearn.linear_model import LogisticRegression\n",
        "from sklearn.ensemble import RandomForestClassifier\n",
        "from sklearn.tree import DecisionTreeClassifier\n",
        "from sklearn import svm\n",
        "from sklearn.metrics import mean_squared_error, r2_score"
      ]
    },
    {
      "cell_type": "code",
      "source": [
        "df=pd.read_csv(\"heart_2020_cleaned.csv\")\n",
        "# df=df.sample(n = 30000)\n",
        "#------------------Removing duplicated samples (The same observation of differents )-----\n",
        "duplicateObser = df[df.duplicated()]\n",
        "LabelsDupObser=duplicateObser.axes[0].tolist()\n",
        "print('Number of duplicated observations:', duplicateObser.shape[0])\n",
        "df=df.drop_duplicates()\n",
        "print(df.shape)\n",
        "\n",
        "\n",
        "\n",
        "\n",
        "# ----------------------------------MAPPING------------------------\n",
        "df.replace(\"Yes\",1,inplace=True)\n",
        "df.replace(\"No\",0,inplace=True)\n",
        "\n",
        "target=df[\"HeartDisease\"]\n",
        "df.drop([\"HeartDisease\"], axis=1, inplace=True)\n",
        "df.AgeCategory.unique()\n",
        "df.replace(\"18-24\",0,inplace=True)\n",
        "df.replace(\"25-29\",1,inplace=True)\n",
        "df.replace(\"30-34\",2,inplace=True)\n",
        "df.replace(\"35-39\",3,inplace=True)\n",
        "df.replace(\"40-44\",4,inplace=True)\n",
        "df.replace(\"45-49\",5,inplace=True)\n",
        "df.replace(\"50-54\",6,inplace=True)\n",
        "df.replace(\"55-59\",7,inplace=True)\n",
        "df.replace(\"60-64\",8,inplace=True)\n",
        "df.replace(\"65-69\",9,inplace=True)\n",
        "df.replace(\"70-74\",10,inplace=True)\n",
        "df.replace(\"75-79\",11,inplace=True)\n",
        "df.replace(\"80 or older\",13,inplace=True)\n",
        "\n",
        "df.Diabetic.unique()\n",
        "df.replace(\"No, borderline diabetes\",2,inplace=True)\n",
        "df.replace(\"Yes (during pregnancy)\",3,inplace=True)\n",
        "\n",
        "df.GenHealth.unique()\n",
        "df.replace(\"Excellent\",0,inplace=True)\n",
        "df.replace(\"Good\",1,inplace=True)\n",
        "df.replace(\"Fair\",2,inplace=True)\n",
        "df.replace(\"Very good\",3,inplace=True)\n",
        "df.replace(\"Poor\",4,inplace=True)\n",
        "\n",
        "df.Race.unique()\n",
        "df.replace(\"White\",0,inplace=True)\n",
        "df.replace(\"Other\",1,inplace=True)\n",
        "df.replace(\"Black\",2,inplace=True)\n",
        "df.replace(\"Hispanic\",3,inplace=True)\n",
        "df.replace(\"Asian\",4,inplace=True)\n",
        "df.replace(\"American Indian/Alaskan Native\",4,inplace=True)\n",
        "\n",
        "df.Sex.unique()\n",
        "df.replace(\"Female\",0,inplace=True)\n",
        "df.replace(\"Male\",1,inplace=True)\n",
        "\n",
        "df['BMI'].mask(df['BMI']  < 18.5, 0, inplace=True)\n",
        "df['BMI'].mask(df['BMI'].between(18.5,25), 1, inplace=True)\n",
        "df['BMI'].mask(df['BMI'].between(25,30), 2, inplace=True)\n",
        "df['BMI'].mask(df['BMI']  > 30, 3, inplace=True)"
      ],
      "metadata": {
        "colab": {
          "base_uri": "https://localhost:8080/"
        },
        "id": "kTJbhVeqqOTE",
        "outputId": "3476826c-38c5-44dc-b55f-aa6bc6f5a882"
      },
      "execution_count": 9,
      "outputs": [
        {
          "output_type": "stream",
          "name": "stdout",
          "text": [
            "Number of duplicated observations: 18078\n",
            "(301717, 18)\n"
          ]
        }
      ]
    },
    {
      "cell_type": "code",
      "source": [
        "X_train,X_test,y_train,y_test = train_test_split(df,target,test_size=50,random_state=2)"
      ],
      "metadata": {
        "id": "CJf8H0vhqSZT"
      },
      "execution_count": 10,
      "outputs": []
    },
    {
      "cell_type": "code",
      "source": [
        "LogRegModel=LogisticRegression()\n",
        "LogRegModel.fit(df, target)\n",
        "LogRegModel.fit(X_train, y_train)\n",
        "y_pred_LogReg= LogRegModel.predict(X_test)\n",
        "\n",
        "Accuracy_LogReg=accuracy_score(y_test, y_pred_LogReg)\n",
        "print('accuracy Logistic regression:', Accuracy_LogReg*100)"
      ],
      "metadata": {
        "colab": {
          "base_uri": "https://localhost:8080/"
        },
        "id": "upjRdjYdqShv",
        "outputId": "fe238db6-0cbb-4fd0-eb9b-3209cb487c81"
      },
      "execution_count": 11,
      "outputs": [
        {
          "output_type": "stream",
          "name": "stderr",
          "text": [
            "/usr/local/lib/python3.7/dist-packages/sklearn/linear_model/_logistic.py:818: ConvergenceWarning: lbfgs failed to converge (status=1):\n",
            "STOP: TOTAL NO. of ITERATIONS REACHED LIMIT.\n",
            "\n",
            "Increase the number of iterations (max_iter) or scale the data as shown in:\n",
            "    https://scikit-learn.org/stable/modules/preprocessing.html\n",
            "Please also refer to the documentation for alternative solver options:\n",
            "    https://scikit-learn.org/stable/modules/linear_model.html#logistic-regression\n",
            "  extra_warning_msg=_LOGISTIC_SOLVER_CONVERGENCE_MSG,\n"
          ]
        },
        {
          "output_type": "stream",
          "name": "stdout",
          "text": [
            "accuracy Logistic regression: 88.0\n"
          ]
        },
        {
          "output_type": "stream",
          "name": "stderr",
          "text": [
            "/usr/local/lib/python3.7/dist-packages/sklearn/linear_model/_logistic.py:818: ConvergenceWarning: lbfgs failed to converge (status=1):\n",
            "STOP: TOTAL NO. of ITERATIONS REACHED LIMIT.\n",
            "\n",
            "Increase the number of iterations (max_iter) or scale the data as shown in:\n",
            "    https://scikit-learn.org/stable/modules/preprocessing.html\n",
            "Please also refer to the documentation for alternative solver options:\n",
            "    https://scikit-learn.org/stable/modules/linear_model.html#logistic-regression\n",
            "  extra_warning_msg=_LOGISTIC_SOLVER_CONVERGENCE_MSG,\n"
          ]
        }
      ]
    },
    {
      "cell_type": "code",
      "source": [
        "DecTree= DecisionTreeClassifier()\n",
        "DecTree.fit(df, target)\n",
        "y_pred_DecTree= DecTree.predict(X_test)\n",
        "\n",
        "Accuracy_DecTree=accuracy_score(y_test, y_pred_DecTree)\n",
        "print('accuracy Decision tree:', Accuracy_DecTree*100)\n"
      ],
      "metadata": {
        "colab": {
          "base_uri": "https://localhost:8080/"
        },
        "id": "PsbTsC5UqSsp",
        "outputId": "bf8c2be9-58c0-43c4-b993-62efe06273ff"
      },
      "execution_count": 12,
      "outputs": [
        {
          "output_type": "stream",
          "name": "stdout",
          "text": [
            "accuracy Decision tree: 96.0\n"
          ]
        }
      ]
    },
    {
      "cell_type": "code",
      "source": [
        "RandForest = RandomForestClassifier(n_estimators=100)\n",
        "RandForest.fit(df, target)\n",
        "y_pred_RandForest= RandForest.predict(X_test)\n",
        "\n",
        "Accuracy_RandForest=accuracy_score(y_test, y_pred_RandForest)\n",
        "print('Random forest:', Accuracy_RandForest*100)"
      ],
      "metadata": {
        "colab": {
          "base_uri": "https://localhost:8080/"
        },
        "id": "wmitJ2rzqkeF",
        "outputId": "2e5f02bd-05bf-4160-c114-6ce539c3d8d1"
      },
      "execution_count": 14,
      "outputs": [
        {
          "output_type": "stream",
          "name": "stdout",
          "text": [
            "Random forest: 96.0\n"
          ]
        }
      ]
    },
    {
      "cell_type": "code",
      "source": [
        "# -*- coding: utf-8 -*-\n",
        "\"\"\"\n",
        "Created on Wed Jul  6 11:01:15 2022\n",
        "\n",
        "@author: Benk\n",
        "\"\"\"\n",
        "# -*- coding: utf-8 -*\n",
        "\n",
        "import numpy as np\n",
        "import pandas  as pd\n",
        "from sklearn.model_selection import train_test_split\n",
        "import matplotlib.pyplot as plt\n",
        "from sklearn import preprocessing\n",
        "import pickle\n",
        "from sklearn.linear_model import LogisticRegression\n",
        "from sklearn.ensemble import RandomForestClassifier, VotingClassifier\n",
        "from sklearn.tree import DecisionTreeClassifier\n",
        "from sklearn import svm\n",
        "from sklearn.metrics import accuracy_score, mean_squared_error, r2_score\n",
        "import warnings\n",
        "warnings.filterwarnings('ignore')\n",
        "\n",
        "\n",
        "df=pd.read_csv(\"heart_2020_cleaned.csv\")\n",
        "# df=df.sample(n = 30000)\n",
        "#------------------Removing duplicated samples (The same observation of differents )-----\n",
        "duplicateObser = df[df.duplicated()]\n",
        "LabelsDupObser=duplicateObser.axes[0].tolist()\n",
        "print('Number of duplicated observations:', duplicateObser.shape[0])\n",
        "df=df.drop_duplicates()\n",
        "print(df.shape)\n",
        "# ----------------------------------MAPPING------------------------\n",
        "df.replace(\"Yes\",1,inplace=True)\n",
        "df.replace(\"No\",0,inplace=True)\n",
        "\n",
        "target=df[\"HeartDisease\"]\n",
        "df.drop([\"HeartDisease\"], axis=1, inplace=True)\n",
        "df.AgeCategory.unique()\n",
        "df.replace(\"18-24\",0,inplace=True)\n",
        "df.replace(\"25-29\",1,inplace=True)\n",
        "df.replace(\"30-34\",2,inplace=True)\n",
        "df.replace(\"35-39\",3,inplace=True)\n",
        "df.replace(\"40-44\",4,inplace=True)\n",
        "df.replace(\"45-49\",5,inplace=True)\n",
        "df.replace(\"50-54\",6,inplace=True)\n",
        "df.replace(\"55-59\",7,inplace=True)\n",
        "df.replace(\"60-64\",8,inplace=True)\n",
        "df.replace(\"65-69\",9,inplace=True)\n",
        "df.replace(\"70-74\",10,inplace=True)\n",
        "df.replace(\"75-79\",11,inplace=True)\n",
        "df.replace(\"80 or older\",13,inplace=True)\n",
        "\n",
        "df.Diabetic.unique()\n",
        "df.replace(\"No, borderline diabetes\",2,inplace=True)\n",
        "df.replace(\"Yes (during pregnancy)\",3,inplace=True)\n",
        "\n",
        "df.GenHealth.unique()\n",
        "df.replace(\"Excellent\",0,inplace=True)\n",
        "df.replace(\"Good\",1,inplace=True)\n",
        "df.replace(\"Fair\",2,inplace=True)\n",
        "df.replace(\"Very good\",3,inplace=True)\n",
        "df.replace(\"Poor\",4,inplace=True)\n",
        "\n",
        "df.Race.unique()\n",
        "df.replace(\"White\",0,inplace=True)\n",
        "df.replace(\"Other\",1,inplace=True)\n",
        "df.replace(\"Black\",2,inplace=True)\n",
        "df.replace(\"Hispanic\",3,inplace=True)\n",
        "df.replace(\"Asian\",4,inplace=True)\n",
        "df.replace(\"American Indian/Alaskan Native\",4,inplace=True)\n",
        "\n",
        "df.Sex.unique()\n",
        "df.replace(\"Female\",0,inplace=True)\n",
        "df.replace(\"Male\",1,inplace=True)\n",
        "\n",
        "df['BMI'].mask(df['BMI']  < 18.5, 0, inplace=True)\n",
        "df['BMI'].mask(df['BMI'].between(18.5,25), 1, inplace=True)\n",
        "df['BMI'].mask(df['BMI'].between(25,30), 2, inplace=True)\n",
        "df['BMI'].mask(df['BMI']  > 30, 3, inplace=True)\n",
        "\n",
        "\n",
        "\n",
        "\n",
        "\n",
        "\n",
        "# ------------------------Prepare the data training and test-------------------\n",
        "X_train,X_test,y_train,y_test = train_test_split(df,target,test_size=.3,random_state=2)\n",
        "# ------------------------logistic regression-------------------\n",
        "LogRegModel=LogisticRegression()\n",
        "LogRegModel.fit(X_train, y_train)\n",
        "y_pred_LogReg= LogRegModel.predict(X_test)\n",
        "\n",
        "Accuracy_LogReg=accuracy_score(y_test, y_pred_LogReg)\n",
        "print('accuracy Logistic regression:', Accuracy_LogReg*100)\n",
        "\n",
        "# ------------------------Decision Tree-------------------\n",
        "DecTree= DecisionTreeClassifier()\n",
        "DecTree.fit(X_train, y_train)\n",
        "y_pred_DecTree= DecTree.predict(X_test)\n",
        "\n",
        "Accuracy_DecTree=accuracy_score(y_test, y_pred_DecTree)\n",
        "print('accuracy Decision tree:', Accuracy_DecTree*100)\n",
        "\n",
        "\n",
        "# ------------------------Random forest------------------\n",
        "RandForest = RandomForestClassifier(n_estimators=100, random_state=0, n_jobs=-1)\n",
        "RandForest.fit(X_train, y_train)\n",
        "y_pred_RandForest= RandForest.predict(X_test)\n",
        "Accuracy_RandForest=accuracy_score(y_test, y_pred_RandForest)\n",
        "print('Random forest:', Accuracy_RandForest*100)\n",
        "\n",
        "# ------------------------KnnC------------------\n",
        "from sklearn.neighbors import KNeighborsClassifier\n",
        "KNNc = KNeighborsClassifier(n_neighbors=3)\n",
        "KNNc.fit(X_train, y_train)\n",
        "y_pred_KNNc= KNNc.predict(X_test)\n",
        "\n",
        "Accuracy_KNNc=accuracy_score(y_test, y_pred_KNNc)\n",
        "print('KNNc:', Accuracy_KNNc*100)\n",
        "\n",
        "\n",
        "# ------------------------SVM------------------\n",
        "# SupVect= svm.SVC() \n",
        "# SupVect.fit(df, target)\n",
        "# y_pred_SupVect= SupVect.predict(X_test)\n",
        "\n",
        "# Accuracy_SupVect=accuracy_score(y_test, y_pred_SupVect)\n",
        "# print('accuracy support vector machine:', Accuracy_SupVect*100)\n",
        "\n",
        "\n",
        "\n",
        "voting_clf = VotingClassifier(\n",
        "    estimators=[('LogRegModel', LogRegModel), ('DecTree', DecTree),            \n",
        "   ('RandForest', RandForest), ('KNNc', KNNc) ], voting = 'soft')\n",
        "voting_clf.fit(X_train, y_train)\n",
        "\n",
        "\n",
        "for clf in (LogRegModel, DecTree, RandForest, KNNc,   voting_clf):\n",
        "    clf.fit(X_train, y_train)\n",
        "    y_pred = clf.predict(X_test)\n",
        "    print(clf.__class__.__name__, accuracy_score(y_test, y_pred))\n",
        "\n",
        "\n",
        "\n",
        "\n"
      ],
      "metadata": {
        "colab": {
          "base_uri": "https://localhost:8080/"
        },
        "id": "gVYJFiInqknf",
        "outputId": "ce22cb82-30c9-4302-b5e3-8739874bc5c9"
      },
      "execution_count": 25,
      "outputs": [
        {
          "output_type": "stream",
          "name": "stdout",
          "text": [
            "Number of duplicated observations: 18078\n",
            "(301717, 18)\n",
            "accuracy Logistic regression: 91.00048610190463\n",
            "accuracy Decision tree: 86.95147819170091\n",
            "Random forest: 90.22493260859959\n",
            "KNNc: 89.26046223872022\n",
            "LogisticRegression 0.9100048610190463\n",
            "DecisionTreeClassifier 0.8691060144062928\n",
            "RandomForestClassifier 0.9022493260859958\n",
            "KNeighborsClassifier 0.8926046223872023\n",
            "VotingClassifier 0.9008794025365682\n"
          ]
        }
      ]
    },
    {
      "cell_type": "markdown",
      "source": [
        ""
      ],
      "metadata": {
        "id": "d__2KGti-mNA"
      }
    },
    {
      "cell_type": "code",
      "source": [
        "print('AND', accuracy_score(y_test, y_pred_LogReg & y_pred_RandForest & y_pred_DecTree & y_pred_KNNc))\n",
        "print('OR', accuracy_score(y_test, y_pred_LogReg | y_pred_RandForest | y_pred_DecTree | y_pred_KNNc  ))\n",
        "print('XOR', accuracy_score(y_test, y_pred_LogReg ^ y_pred_RandForest ^ y_pred_DecTree ^ y_pred_KNNc))"
      ],
      "metadata": {
        "colab": {
          "base_uri": "https://localhost:8080/"
        },
        "id": "8_QOaNFWqkrF",
        "outputId": "9f50c52e-a7ea-417e-92dc-231fee8e8caa"
      },
      "execution_count": 27,
      "outputs": [
        {
          "output_type": "stream",
          "name": "stdout",
          "text": [
            "AND 0.9095739979672102\n",
            "OR 0.8573511865305581\n",
            "XOR 0.8649078615935304\n"
          ]
        }
      ]
    },
    {
      "cell_type": "code",
      "source": [
        "# ------------------------KnnC------------------\n",
        "from sklearn.neighbors import KNeighborsClassifier\n",
        "\n",
        "KNNc1 = KNeighborsClassifier(n_neighbors=1)\n",
        "KNNc1.fit(X_train, y_train)\n",
        "y_pred_KNNc1= KNNc.predict(X_test)\n",
        "Accuracy_KNNc1=accuracy_score(y_test, y_pred_KNNc1)\n",
        "print('KNNc1:', Accuracy_KNNc1*100)\n",
        "# ------------------------------------------\n",
        "KNNc3 = KNeighborsClassifier(n_neighbors=3)\n",
        "KNNc3.fit(X_train, y_train)\n",
        "y_pred_KNNc3= KNNc3.predict(X_test)\n",
        "Accuracy_KNNc3=accuracy_score(y_test, y_pred_KNNc3)\n",
        "print('KNNc3:', Accuracy_KNNc3*100)\n",
        "# ------------------------------------------\n",
        "KNNc5 = KNeighborsClassifier(n_neighbors=5)\n",
        "KNNc5.fit(X_train, y_train)\n",
        "y_pred_KNNc5= KNNc5.predict(X_test)\n",
        "Accuracy_KNNc5=accuracy_score(y_test, y_pred_KNNc5)\n",
        "print('KNNc5:', Accuracy_KNNc5*100)\n",
        "# ------------------------------------------\n",
        "KNNc7 = KNeighborsClassifier(n_neighbors=7)\n",
        "KNNc7.fit(X_train, y_train)\n",
        "y_pred_KNNc7= KNNc7.predict(X_test)\n",
        "Accuracy_KNNc7=accuracy_score(y_test, y_pred_KNNc7)\n",
        "print('KNNc7:', Accuracy_KNNc7*100)\n",
        "# ------------------------------------------\n",
        "KNNc9 = KNeighborsClassifier(n_neighbors=9)\n",
        "KNNc9.fit(X_train, y_train)\n",
        "y_pred_KNNc9= KNNc9.predict(X_test)\n",
        "Accuracy_KNNc9=accuracy_score(y_test, y_pred_KNNc9)\n",
        "print('KNNc9:', Accuracy_KNNc9*100)\n",
        "\n",
        "\n",
        "\n",
        "votingC = VotingClassifier(\n",
        "    estimators=[('KNNc1', KNNc1), ('KNNc3', KNNc3), ('KNNc5', KNNc5),\n",
        "           ('KNNc7', KNNc7),     ('KNNc9', KNNc9)], voting = 'hard')\n",
        "votingC.fit(X_train, y_train)\n",
        "y_pred_votingC= votingC.predict(X_test)\n",
        "Accuracy_votingC=accuracy_score(y_test, y_pred_votingC)\n",
        "print('KNNc9:', Accuracy_votingC*100)\n",
        "\n"
      ],
      "metadata": {
        "colab": {
          "base_uri": "https://localhost:8080/"
        },
        "id": "ew8d5w9Xqkum",
        "outputId": "66054137-841a-4a13-fe4e-cd4661dad6d6"
      },
      "execution_count": 29,
      "outputs": [
        {
          "output_type": "stream",
          "name": "stdout",
          "text": [
            "KNNc1: 89.26046223872022\n",
            "KNNc3: 89.26046223872022\n",
            "KNNc5: 90.06473993548101\n",
            "KNNc7: 90.46687878386142\n",
            "KNNc9: 90.65027177515577\n",
            "KNeighborsClassifier 0.8615382915727606\n",
            "KNeighborsClassifier 0.8926046223872023\n",
            "KNeighborsClassifier 0.9006473993548102\n",
            "KNeighborsClassifier 0.9046687878386142\n",
            "KNeighborsClassifier 0.9065027177515578\n",
            "VotingClassifier 0.9037518228821424\n"
          ]
        }
      ]
    }
  ]
}