{
  "nbformat": 4,
  "nbformat_minor": 0,
  "metadata": {
    "colab": {
      "name": "Diabetes-DecisionFusion.ipynb",
      "provenance": [],
      "authorship_tag": "ABX9TyOvYKwZcHLY4YRX7LUogBTY",
      "include_colab_link": true
    },
    "kernelspec": {
      "name": "python3",
      "display_name": "Python 3"
    },
    "language_info": {
      "name": "python"
    }
  },
  "cells": [
    {
      "cell_type": "markdown",
      "metadata": {
        "id": "view-in-github",
        "colab_type": "text"
      },
      "source": [
        "<a href=\"https://colab.research.google.com/github/lamisghoualmi/Projects-MachineLearning/blob/main/Diabetes_DecisionFusion.ipynb\" target=\"_parent\"><img src=\"https://colab.research.google.com/assets/colab-badge.svg\" alt=\"Open In Colab\"/></a>"
      ]
    },
    {
      "cell_type": "code",
      "execution_count": 8,
      "metadata": {
        "colab": {
          "base_uri": "https://localhost:8080/"
        },
        "id": "B9FWPY2eAuZp",
        "outputId": "ef741812-1525-437f-9492-ddef7ffd3ee3"
      },
      "outputs": [
        {
          "output_type": "stream",
          "name": "stdout",
          "text": [
            "             Glucose  BloodPressure  SkinThickness  Insulin   BMI  \\\n",
            "Pregnancies                                                         \n",
            "6                148             72             35        0  33.6   \n",
            "1                 85             66             29        0  26.6   \n",
            "8                183             64              0        0  23.3   \n",
            "1                 89             66             23       94  28.1   \n",
            "0                137             40             35      168  43.1   \n",
            "...              ...            ...            ...      ...   ...   \n",
            "10               101             76             48      180  32.9   \n",
            "2                122             70             27        0  36.8   \n",
            "5                121             72             23      112  26.2   \n",
            "1                126             60              0        0  30.1   \n",
            "1                 93             70             31        0  30.4   \n",
            "\n",
            "             DiabetesPedigreeFunction  Age  Outcome  \n",
            "Pregnancies                                          \n",
            "6                               0.627   50        1  \n",
            "1                               0.351   31        0  \n",
            "8                               0.672   32        1  \n",
            "1                               0.167   21        0  \n",
            "0                               2.288   33        1  \n",
            "...                               ...  ...      ...  \n",
            "10                              0.171   63        0  \n",
            "2                               0.340   27        0  \n",
            "5                               0.245   30        0  \n",
            "1                               0.349   47        1  \n",
            "1                               0.315   23        0  \n",
            "\n",
            "[768 rows x 8 columns]\n",
            "             Glucose  BloodPressure  SkinThickness  Insulin   BMI  \\\n",
            "Pregnancies                                                         \n",
            "6                148             72             35        0  33.6   \n",
            "1                 85             66             29        0  26.6   \n",
            "8                183             64              0        0  23.3   \n",
            "1                 89             66             23       94  28.1   \n",
            "0                137             40             35      168  43.1   \n",
            "...              ...            ...            ...      ...   ...   \n",
            "10               101             76             48      180  32.9   \n",
            "2                122             70             27        0  36.8   \n",
            "5                121             72             23      112  26.2   \n",
            "1                126             60              0        0  30.1   \n",
            "1                 93             70             31        0  30.4   \n",
            "\n",
            "             DiabetesPedigreeFunction  Age  \n",
            "Pregnancies                                 \n",
            "6                               0.627   50  \n",
            "1                               0.351   31  \n",
            "8                               0.672   32  \n",
            "1                               0.167   21  \n",
            "0                               2.288   33  \n",
            "...                               ...  ...  \n",
            "10                              0.171   63  \n",
            "2                               0.340   27  \n",
            "5                               0.245   30  \n",
            "1                               0.349   47  \n",
            "1                               0.315   23  \n",
            "\n",
            "[768 rows x 7 columns]\n"
          ]
        }
      ],
      "source": [
        "import numpy as np\n",
        "import pandas  as pd\n",
        "from sklearn.model_selection import train_test_split\n",
        "import matplotlib.pyplot as plt\n",
        "from sklearn import preprocessing\n",
        "import pickle\n",
        "from sklearn.linear_model import LogisticRegression\n",
        "from sklearn.ensemble import RandomForestClassifier, VotingClassifier\n",
        "from sklearn.tree import DecisionTreeClassifier\n",
        "from sklearn import svm\n",
        "from sklearn.neighbors import KNeighborsClassifier\n",
        "from sklearn.metrics import accuracy_score, mean_squared_error, r2_score\n",
        "import warnings\n",
        "warnings.filterwarnings('ignore')\n",
        "\n",
        "df = pd.read_csv('diabetes.csv', index_col=0)\n",
        "print(df)\n",
        "df = df.dropna()\n",
        "\n",
        "target=df['Outcome']\n",
        "df=df.drop(['Outcome'], axis=1)\n",
        "print(df)"
      ]
    },
    {
      "cell_type": "code",
      "source": [
        "# ------------------------Prepare the data training and test-------------------\n",
        "X_train,X_test,y_train,y_test = train_test_split(df,target,test_size=30,random_state=2)\n",
        "# ------------------------logistic regression-------------------\n",
        "LogRegModel=LogisticRegression()\n",
        "LogRegModel.fit(X_train, y_train)\n",
        "y_pred_LogReg= LogRegModel.predict(X_test)\n",
        "\n",
        "Accuracy_LogReg=accuracy_score(y_test, y_pred_LogReg)\n",
        "print('accuracy Logistic regression:', Accuracy_LogReg*100)\n",
        "\n",
        "# ------------------------Decision Tree-------------------\n",
        "DecTree= DecisionTreeClassifier()\n",
        "DecTree.fit(X_train, y_train)\n",
        "y_pred_DecTree= DecTree.predict(X_test)\n",
        "\n",
        "Accuracy_DecTree=accuracy_score(y_test, y_pred_DecTree)\n",
        "print('accuracy Decision tree:', Accuracy_DecTree*100)\n",
        "\n",
        "\n",
        "# ------------------------Random forest------------------\n",
        "RandForest = RandomForestClassifier(n_estimators=100, random_state=0, n_jobs=-1)\n",
        "RandForest.fit(X_train, y_train)\n",
        "y_pred_RandForest= RandForest.predict(X_test)\n",
        "Accuracy_RandForest=accuracy_score(y_test, y_pred_RandForest)\n",
        "print('Random forest:', Accuracy_RandForest*100)\n",
        "\n",
        "# ------------------------KnnC------------------\n",
        "\n",
        "KNNc = KNeighborsClassifier(n_neighbors=3)\n",
        "KNNc.fit(X_train, y_train)\n",
        "y_pred_KNNc= KNNc.predict(X_test)\n",
        "\n",
        "Accuracy_KNNc=accuracy_score(y_test, y_pred_KNNc)\n",
        "print('KNNc:', Accuracy_KNNc*100)\n",
        "\n",
        "\n",
        "# ------------------------SVM------------------\n",
        "# SupVect= svm.SVC() \n",
        "# SupVect.fit(df, target)\n",
        "# y_pred_SupVect= SupVect.predict(X_test)\n",
        "\n",
        "# Accuracy_SupVect=accuracy_score(y_test, y_pred_SupVect)\n",
        "# print('accuracy support vector machine:', Accuracy_SupVect*100)\n",
        "\n",
        "\n",
        "\n",
        "voting_clf = VotingClassifier(\n",
        "    estimators=[('LogRegModel', LogRegModel), ('DecTree', DecTree),            \n",
        "   ('RandForest', RandForest), ('KNNc', KNNc) ], voting = 'soft')\n",
        "voting_clf.fit(X_train, y_train)\n",
        "\n",
        "\n",
        "for clf in (LogRegModel, DecTree, RandForest, KNNc,   voting_clf):\n",
        "    clf.fit(X_train, y_train)\n",
        "    y_pred = clf.predict(X_test)\n",
        "    print(clf.__class__.__name__, accuracy_score(y_test, y_pred))"
      ],
      "metadata": {
        "colab": {
          "base_uri": "https://localhost:8080/"
        },
        "id": "ZBKIbKNUGGSX",
        "outputId": "439a6c78-1c48-4079-dc3d-608878dd8727"
      },
      "execution_count": 14,
      "outputs": [
        {
          "output_type": "stream",
          "name": "stdout",
          "text": [
            "accuracy Logistic regression: 83.33333333333334\n",
            "accuracy Decision tree: 73.33333333333333\n",
            "Random forest: 83.33333333333334\n",
            "KNNc: 76.66666666666667\n",
            "LogisticRegression 0.8333333333333334\n",
            "DecisionTreeClassifier 0.7333333333333333\n",
            "RandomForestClassifier 0.8333333333333334\n",
            "KNeighborsClassifier 0.7666666666666667\n",
            "VotingClassifier 0.8\n"
          ]
        }
      ]
    },
    {
      "cell_type": "code",
      "source": [
        "print('AND', accuracy_score(y_test, y_pred_LogReg & y_pred_RandForest & y_pred_DecTree & y_pred_KNNc))\n",
        "print('OR', accuracy_score(y_test, y_pred_LogReg | y_pred_RandForest | y_pred_DecTree | y_pred_KNNc  ))\n",
        "print('XOR', accuracy_score(y_test, y_pred_LogReg ^ y_pred_RandForest ^ y_pred_DecTree ^ y_pred_KNNc))"
      ],
      "metadata": {
        "colab": {
          "base_uri": "https://localhost:8080/"
        },
        "id": "lLL0NDJNF7vk",
        "outputId": "b5d3d45f-f1bb-46a2-bb7d-312bd1e27995"
      },
      "execution_count": 20,
      "outputs": [
        {
          "output_type": "stream",
          "name": "stdout",
          "text": [
            "AND 0.7\n",
            "OR 0.7666666666666667\n",
            "XOR 0.6666666666666666\n"
          ]
        }
      ]
    },
    {
      "cell_type": "code",
      "source": [
        "KNNc1 = KNeighborsClassifier(n_neighbors=1)\n",
        "KNNc1.fit(X_train, y_train)\n",
        "y_pred_KNNc1= KNNc1.predict(X_test)\n",
        "Accuracy_KNNc1=accuracy_score(y_test, y_pred_KNNc1)\n",
        "print('KNNc1:', Accuracy_KNNc1*100)\n",
        "# ------------------------------------------\n",
        "KNNc3 = KNeighborsClassifier(n_neighbors=3)\n",
        "KNNc3.fit(X_train, y_train)\n",
        "y_pred_KNNc3= KNNc3.predict(X_test)\n",
        "Accuracy_KNNc3=accuracy_score(y_test, y_pred_KNNc3)\n",
        "print('KNNc3:', Accuracy_KNNc3*100)\n",
        "# ------------------------------------------\n",
        "KNNc5 = KNeighborsClassifier(n_neighbors=5)\n",
        "KNNc5.fit(X_train, y_train)\n",
        "y_pred_KNNc5= KNNc5.predict(X_test)\n",
        "Accuracy_KNNc5=accuracy_score(y_test, y_pred_KNNc5)\n",
        "print('KNNc5:', Accuracy_KNNc5*100)\n",
        "# ------------------------------------------\n",
        "KNNc7 = KNeighborsClassifier(n_neighbors=7)\n",
        "KNNc7.fit(X_train, y_train)\n",
        "y_pred_KNNc7= KNNc7.predict(X_test)\n",
        "Accuracy_KNNc7=accuracy_score(y_test, y_pred_KNNc7)\n",
        "print('KNNc7:', Accuracy_KNNc7*100)\n",
        "# ------------------------------------------\n",
        "KNNc9 = KNeighborsClassifier(n_neighbors=9)\n",
        "KNNc9.fit(X_train, y_train)\n",
        "y_pred_KNNc9= KNNc9.predict(X_test)\n",
        "Accuracy_KNNc9=accuracy_score(y_test, y_pred_KNNc9)\n",
        "print('KNNc9:', Accuracy_KNNc9*100)\n",
        "\n",
        "print('--------------')\n",
        "\n",
        "voting_clf = VotingClassifier(\n",
        "    estimators=[('KNNc1', KNNc1), ('KNNc3', KNNc3), ('KNNc5', KNNc5),\n",
        "           ('KNNc7', KNNc7),     ('KNNc9', KNNc9)], voting = 'soft')\n",
        "voting_clf.fit(X_train, y_train)\n",
        "\n",
        "\n",
        "for clf in (KNNc1, KNNc3, KNNc5, KNNc7, KNNc9,   voting_clf):\n",
        "    clf.fit(X_train, y_train)\n",
        "    y_pred = clf.predict(X_test)\n",
        "    print(clf.__class__.__name__, accuracy_score(y_test, y_pred))"
      ],
      "metadata": {
        "colab": {
          "base_uri": "https://localhost:8080/"
        },
        "id": "9ijuqk87GeFJ",
        "outputId": "8a60d039-6e6a-48bd-cfb3-fc7676935e41"
      },
      "execution_count": 19,
      "outputs": [
        {
          "output_type": "stream",
          "name": "stdout",
          "text": [
            "KNNc1: 86.66666666666667\n",
            "KNNc3: 76.66666666666667\n",
            "KNNc5: 66.66666666666666\n",
            "KNNc7: 70.0\n",
            "KNNc9: 76.66666666666667\n",
            "--------------\n",
            "KNeighborsClassifier 0.8666666666666667\n",
            "KNeighborsClassifier 0.7666666666666667\n",
            "KNeighborsClassifier 0.6666666666666666\n",
            "KNeighborsClassifier 0.7\n",
            "KNeighborsClassifier 0.7666666666666667\n",
            "VotingClassifier 0.8\n"
          ]
        }
      ]
    }
  ]
}